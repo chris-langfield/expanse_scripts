{
 "cells": [
  {
   "cell_type": "code",
   "execution_count": 30,
   "id": "8aea56a8-4fdc-4302-90ca-bdc861515adb",
   "metadata": {},
   "outputs": [],
   "source": [
    "import spikeinterface.full as si\n",
    "import numpy as np\n",
    "import pandas as pd\n",
    "from pathlib import Path\n",
    "from spikeinterface.generation.drift_tools import DriftingTemplates, interpolate_templates\n",
    "import pickle"
   ]
  },
  {
   "cell_type": "code",
   "execution_count": 17,
   "id": "395590d0-e71c-4978-b704-5697edb514dd",
   "metadata": {},
   "outputs": [],
   "source": [
    "### RE recordings (destriped)\n",
    "\n",
    "\n",
    "pids = [\n",
    "        \"1a276285-8b0e-4cc9-9f0a-a3a002978724\",\n",
    "        \"1e104bf4-7a24-4624-a5b2-c2c8289c0de7\",\n",
    "        \"5d570bf6-a4c6-4bf1-a14b-2c878c84ef0e\",\n",
    "        \"5f7766ce-8e2e-410c-9195-6bf089fea4fd\",\n",
    "        \"6638cfb3-3831-4fc2-9327-194b76cf22e1\",\n",
    "        \"749cb2b7-e57e-4453-a794-f6230e4d0226\",\n",
    "        \"d7ec0892-0a6c-4f4f-9d8f-72083692af5c\",\n",
    "        \"da8dfec1-d265-44e8-84ce-6ae9c109b8bd\",\n",
    "        \"dab512bd-a02d-4c1f-8dbc-9155a163efc0\",\n",
    "        \"dc7e9403-19f7-409f-9240-05ee57cb7aea\",\n",
    "        \"decc8d40-cf74-4263-ae9d-a0cc68b47e86\",\n",
    "        \"e8f9fba4-d151-4b00-bee7-447f0f3e752c\",\n",
    "        \"eebcaf65-7fa4-4118-869d-a084e84530e2\",\n",
    "        \"fe380793-8035-414e-b000-09bfe5ece92a\"\n",
    "       ]\n",
    "\n",
    "def rec_from_pid(pid):\n",
    "    recordings_path = Path(\"/expanse/lustre/projects/col168/cwindolf/benchmark_recordings/\")\n",
    "    ppath = recordings_path.joinpath(pid)\n",
    "    return si.read_binary_folder(ppath)"
   ]
  },
  {
   "cell_type": "code",
   "execution_count": 61,
   "id": "56e22e16-787c-41ff-8865-79ce2710e1d1",
   "metadata": {},
   "outputs": [],
   "source": [
    "### RE templates\n",
    "\n",
    "\n",
    "temp_pids = ['1a60a6e1-da99-4d4e-a734-39b1d4544fad',\n",
    " 'bbe6ebc1-d32f-42dd-a89c-211226737deb',\n",
    " '84fd7fa3-6c2d-4233-b265-46a427d3d68d',\n",
    " 'dab512bd-a02d-4c1f-8dbc-9155a163efc0',\n",
    " '6fc4d73c-2071-43ec-a756-c6c6d8322c8b',\n",
    " '1f5d62cb-814f-4ab2-b6af-7557ea04d56a',\n",
    " '8ca1a850-26ef-42be-8b28-c2e2d12f06d6',\n",
    " 'ad714133-1e03-4d3a-8427-33fc483daf1a',\n",
    " 'c17772a9-21b5-49df-ab31-3017addea12e',\n",
    " 'ce397420-3cd2-4a55-8fd1-5e28321981f4',\n",
    " '7a620688-66cb-44d3-b79b-ccac1c8ba23e']\n",
    "\n",
    "def templates_from_pid(pid):\n",
    "    templates_path = Path(\"/expanse/lustre/projects/col168/clangfield/data/re_templates/\")\n",
    "    tpath = templates_path.joinpath(f\"{pid}\", \"templates.npy\")\n",
    "    z = np.load(tpath)\n",
    "    return z"
   ]
  },
  {
   "cell_type": "code",
   "execution_count": 62,
   "id": "20940a12-48c4-48ce-925c-595d70ec4666",
   "metadata": {},
   "outputs": [],
   "source": [
    "### Motion estimates\n",
    "\n",
    "\n",
    "motion_pids = [\"1e176f17-d00f-49bb-87ff-26d237b525f1\",\n",
    "        \"8ca1a850-26ef-42be-8b28-c2e2d12f06d6\",\n",
    "        \"c4f6665f-8be5-476b-a6e8-d81eeae9279d\",\n",
    "        \"dab512bd-a02d-4c1f-8dbc-9155a163efc0\",\n",
    "        \"e31b4e39-e350-47a9-aca4-72496d99ff2a\",\n",
    "]\n",
    "\n",
    "def motion_est_from_pid(pid):\n",
    "    motion_path = Path(\"/expanse/lustre/projects/col168/cwindolf/rs_hybrid/original_thresholding\")\n",
    "    ppath = motion_path.joinpath(pid, \"motion_est.pkl\")\n",
    "    with open(ppath, 'rb') as f:\n",
    "        x = pickle.load(f)\n",
    "    return x\n"
   ]
  },
  {
   "cell_type": "code",
   "execution_count": 63,
   "id": "540bd965-b3ee-4695-9588-07319fa45f9a",
   "metadata": {},
   "outputs": [],
   "source": [
    "### Start analysis\n",
    "\n",
    "# pids we have preprocessed data for and motion est for \n",
    "pids_use = list(set(pids).intersection(set(motion_pids)))"
   ]
  },
  {
   "cell_type": "code",
   "execution_count": 66,
   "id": "ef302d52-e465-4ffd-9944-c35b64528363",
   "metadata": {},
   "outputs": [],
   "source": [
    "### Create drifty templates\n",
    "pid = pids_use[0]\n",
    "\n",
    "templates = templates_from_pid(temp_pids[0])\n",
    "\n",
    "me = motion_est_from_pid(pid)\n",
    "\n",
    "n_time_bins = me.displacement.shape\n",
    "xy_disps = np.zeros((n_time_bins, 2))\n",
    "xy_disps = "
   ]
  },
  {
   "cell_type": "markdown",
   "id": "6c0dc90b-8c7b-495e-8342-0391ffd4f5c8",
   "metadata": {},
   "source": [
    "me.displacements"
   ]
  },
  {
   "cell_type": "code",
   "execution_count": 71,
   "id": "69d08f1f-cffd-4571-9226-f1d8cb74a457",
   "metadata": {},
   "outputs": [
    {
     "data": {
      "text/plain": [
       "(9, 3669)"
      ]
     },
     "execution_count": 71,
     "metadata": {},
     "output_type": "execute_result"
    }
   ],
   "source": [
    "me.displacement.shape"
   ]
  },
  {
   "cell_type": "code",
   "execution_count": null,
   "id": "9960e04b-4683-4eef-94cf-1c2d4c264b2d",
   "metadata": {},
   "outputs": [],
   "source": []
  }
 ],
 "metadata": {
  "kernelspec": {
   "display_name": "iblenv",
   "language": "python",
   "name": "iblenv"
  },
  "language_info": {
   "codemirror_mode": {
    "name": "ipython",
    "version": 3
   },
   "file_extension": ".py",
   "mimetype": "text/x-python",
   "name": "python",
   "nbconvert_exporter": "python",
   "pygments_lexer": "ipython3",
   "version": "3.10.14"
  }
 },
 "nbformat": 4,
 "nbformat_minor": 5
}
