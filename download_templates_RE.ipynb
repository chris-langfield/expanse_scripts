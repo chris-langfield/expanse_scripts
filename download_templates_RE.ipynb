{
 "cells": [
  {
   "cell_type": "code",
   "execution_count": 1,
   "id": "2d37257e-f324-40d7-b0f3-365e0eebf63c",
   "metadata": {},
   "outputs": [
    {
     "name": "stdin",
     "output_type": "stream",
     "text": [
      "Enter Alyx password for \"christopher.langfield\": ········\n"
     ]
    },
    {
     "name": "stdout",
     "output_type": "stream",
     "text": [
      "Connected to https://alyx.internationalbrainlab.org as user \"christopher.langfield\"\n",
      "Downloading: /expanse/lustre/projects/col168/clangfield/tmp6f97gznx/cache.zip Bytes: 126035358\n"
     ]
    },
    {
     "name": "stderr",
     "output_type": "stream",
     "text": [
      "100%|██████████| 120.19668388366699/120.19668388366699 [00:04<00:00, 24.43it/s]\n"
     ]
    }
   ],
   "source": [
    "from one.api import ONE\n",
    "import numpy as np\n",
    "from brainbox.io.one import SpikeSortingLoader\n",
    "\n",
    "pids = ['1a60a6e1-da99-4d4e-a734-39b1d4544fad',\n",
    " 'bbe6ebc1-d32f-42dd-a89c-211226737deb',\n",
    " '84fd7fa3-6c2d-4233-b265-46a427d3d68d',\n",
    " 'dab512bd-a02d-4c1f-8dbc-9155a163efc0',\n",
    " '6fc4d73c-2071-43ec-a756-c6c6d8322c8b',\n",
    " '1f5d62cb-814f-4ab2-b6af-7557ea04d56a',\n",
    " '8ca1a850-26ef-42be-8b28-c2e2d12f06d6',\n",
    " 'ad714133-1e03-4d3a-8427-33fc483daf1a',\n",
    " 'c17772a9-21b5-49df-ab31-3017addea12e',\n",
    " 'ce397420-3cd2-4a55-8fd1-5e28321981f4',\n",
    " '7a620688-66cb-44d3-b79b-ccac1c8ba23e']\n",
    "\n",
    "one = ONE()"
   ]
  },
  {
   "cell_type": "code",
   "execution_count": null,
   "id": "bd2cd9ac-f6c7-42df-a480-adf44d07bc41",
   "metadata": {},
   "outputs": [
    {
     "name": "stdout",
     "output_type": "stream",
     "text": [
      "1a60a6e1-da99-4d4e-a734-39b1d4544fad\n"
     ]
    },
    {
     "name": "stderr",
     "output_type": "stream",
     "text": [
      "100%|██████████| 6/6.0 [00:02<00:00,  2.26it/s]\n"
     ]
    },
    {
     "name": "stdout",
     "output_type": "stream",
     "text": [
      "bbe6ebc1-d32f-42dd-a89c-211226737deb\n"
     ]
    },
    {
     "name": "stderr",
     "output_type": "stream",
     "text": [
      "100%|██████████| 6/6.0 [00:02<00:00,  2.33it/s]\n"
     ]
    },
    {
     "name": "stdout",
     "output_type": "stream",
     "text": [
      "84fd7fa3-6c2d-4233-b265-46a427d3d68d\n"
     ]
    },
    {
     "name": "stderr",
     "output_type": "stream",
     "text": [
      "/expanse/lustre/projects/col168/clangfield/wittenlab/Subjects/ibl_witten_26/2021-01-27/002/alf/probe01/pykilosort/#2024-05-06#/waveforms.traces.npy: 100%|██████████| 1.96G/1.96G [00:50<00:00, 38.5MB/s] \n",
      "/expanse/lustre/projects/col168/clangfield/wittenlab/Subjects/ibl_witten_26/2021-01-27/002/alf/probe01/pykilosort/#2024-05-06#/waveforms.channels.npz: 100%|██████████| 15.3M/15.3M [00:00<00:00, 19.4MB/s]\n",
      "/expanse/lustre/projects/col168/clangfield/wittenlab/Subjects/ibl_witten_26/2021-01-27/002/alf/probe01/pykilosort/#2024-05-06#/waveforms.templates.npy: 100%|██████████| 15.3M/15.3M [00:00<00:00, 22.9MB/s]\n",
      "/expanse/lustre/projects/col168/clangfield/wittenlab/Subjects/ibl_witten_26/2021-01-27/002/alf/probe01/pykilosort/#2024-05-06#/waveforms.table.pqt: 100%|██████████| 3.79M/3.79M [00:01<00:00, 2.78MB/s]\n"
     ]
    },
    {
     "name": "stdout",
     "output_type": "stream",
     "text": [
      "dab512bd-a02d-4c1f-8dbc-9155a163efc0\n"
     ]
    },
    {
     "name": "stderr",
     "output_type": "stream",
     "text": [
      "/expanse/lustre/projects/col168/clangfield/danlab/Subjects/DY_016/2020-09-12/001/alf/probe00/pykilosort/#2024-05-06#/waveforms.table.pqt: 100%|██████████| 3.43M/3.43M [00:01<00:00, 2.64MB/s]\n",
      "/expanse/lustre/projects/col168/clangfield/danlab/Subjects/DY_016/2020-09-12/001/alf/probe00/pykilosort/#2024-05-06#/waveforms.templates.npy: 100%|██████████| 13.8M/13.8M [00:02<00:00, 5.59MB/s]\n",
      "/expanse/lustre/projects/col168/clangfield/danlab/Subjects/DY_016/2020-09-12/001/alf/probe00/pykilosort/#2024-05-06#/waveforms.traces.npy: 100%|██████████| 1.77G/1.77G [00:10<00:00, 162MB/s] \n",
      "/expanse/lustre/projects/col168/clangfield/danlab/Subjects/DY_016/2020-09-12/001/alf/probe00/pykilosort/#2024-05-06#/waveforms.channels.npz: 100%|██████████| 13.8M/13.8M [00:00<00:00, 27.4MB/s]\n"
     ]
    },
    {
     "name": "stdout",
     "output_type": "stream",
     "text": [
      "6fc4d73c-2071-43ec-a756-c6c6d8322c8b\n"
     ]
    },
    {
     "name": "stderr",
     "output_type": "stream",
     "text": [
      "/expanse/lustre/projects/col168/clangfield/hoferlab/Subjects/SWC_060/2020-11-24/001/alf/probe01/pykilosort/#2024-05-06#/waveforms.channels.npz: 100%|██████████| 11.8M/11.8M [00:01<00:00, 9.82MB/s]\n",
      "/expanse/lustre/projects/col168/clangfield/hoferlab/Subjects/SWC_060/2020-11-24/001/alf/probe01/pykilosort/#2024-05-06#/waveforms.table.pqt: 100%|██████████| 3.13M/3.13M [00:05<00:00, 557kB/s]\n",
      "/expanse/lustre/projects/col168/clangfield/hoferlab/Subjects/SWC_060/2020-11-24/001/alf/probe01/pykilosort/#2024-05-06#/waveforms.templates.npy: 100%|██████████| 11.8M/11.8M [00:01<00:00, 9.93MB/s]\n",
      "/expanse/lustre/projects/col168/clangfield/hoferlab/Subjects/SWC_060/2020-11-24/001/alf/probe01/pykilosort/#2024-05-06#/waveforms.traces.npy:   0%|          | 0.00/1.52G [00:00<?, ?B/s]"
     ]
    }
   ],
   "source": [
    "for pid in pids[:]:\n",
    "    print(pid)\n",
    "    ssl = SpikeSortingLoader(pid=pid, one=one)\n",
    "    try:\n",
    "        ssl.load_spike_sorting_object(\"waveforms\")\n",
    "    except AttributeError:\n",
    "        continue"
   ]
  },
  {
   "cell_type": "code",
   "execution_count": null,
   "id": "a7822e8c-2920-48f7-b3ec-a10447530912",
   "metadata": {},
   "outputs": [],
   "source": []
  }
 ],
 "metadata": {
  "kernelspec": {
   "display_name": "iblenv",
   "language": "python",
   "name": "iblenv"
  },
  "language_info": {
   "codemirror_mode": {
    "name": "ipython",
    "version": 3
   },
   "file_extension": ".py",
   "mimetype": "text/x-python",
   "name": "python",
   "nbconvert_exporter": "python",
   "pygments_lexer": "ipython3",
   "version": "3.10.14"
  }
 },
 "nbformat": 4,
 "nbformat_minor": 5
}
