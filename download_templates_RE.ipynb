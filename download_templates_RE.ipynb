{
 "cells": [
  {
   "cell_type": "code",
   "execution_count": 32,
   "id": "2d37257e-f324-40d7-b0f3-365e0eebf63c",
   "metadata": {},
   "outputs": [],
   "source": [
    "from one.api import ONE\n",
    "import numpy as np\n",
    "from brainbox.io.one import SpikeSortingLoader\n",
    "import os\n",
    "from pathlib import Path\n",
    "\n",
    "pids = ['1a60a6e1-da99-4d4e-a734-39b1d4544fad',\n",
    " 'bbe6ebc1-d32f-42dd-a89c-211226737deb',\n",
    " '84fd7fa3-6c2d-4233-b265-46a427d3d68d',\n",
    " 'dab512bd-a02d-4c1f-8dbc-9155a163efc0',\n",
    " '6fc4d73c-2071-43ec-a756-c6c6d8322c8b',\n",
    " '1f5d62cb-814f-4ab2-b6af-7557ea04d56a',\n",
    " '8ca1a850-26ef-42be-8b28-c2e2d12f06d6',\n",
    " 'ad714133-1e03-4d3a-8427-33fc483daf1a',\n",
    " 'c17772a9-21b5-49df-ab31-3017addea12e',\n",
    " 'ce397420-3cd2-4a55-8fd1-5e28321981f4',\n",
    " '7a620688-66cb-44d3-b79b-ccac1c8ba23e']\n",
    "\n",
    "one = ONE()\n",
    "\n",
    "re_templates_path = Path(\"/expanse/lustre/projects/col168/clangfield/data/re_templates\")"
   ]
  },
  {
   "cell_type": "code",
   "execution_count": 34,
   "id": "a7822e8c-2920-48f7-b3ec-a10447530912",
   "metadata": {},
   "outputs": [
    {
     "name": "stderr",
     "output_type": "stream",
     "text": [
      "/expanse/lustre/projects/col168/clangfield/mainenlab/Subjects/ZFM-04308/2022-07-26/001/alf/probe00/pykilosort/#2024-05-06#/waveforms.templates.npy: 100%|██████████| 21.8M/21.8M [00:01<00:00, 16.7MB/s]\n",
      "/expanse/lustre/projects/col168/clangfield/zadorlab/Subjects/CSH_ZAD_026/2020-09-04/001/alf/probe00/pykilosort/#2024-05-06#/waveforms.templates.npy: 100%|██████████| 18.6M/18.6M [00:01<00:00, 15.0MB/s]\n",
      "/expanse/lustre/projects/col168/clangfield/cortexlab/Subjects/KS096/2022-06-17/001/alf/probe01/pykilosort/#2024-05-06#/waveforms.templates.npy: 100%|██████████| 18.1M/18.1M [00:04<00:00, 4.18MB/s]\n",
      "/expanse/lustre/projects/col168/clangfield/hoferlab/Subjects/SWC_043/2020-09-16/002/alf/probe01/pykilosort/#2024-05-06#/waveforms.templates.npy: 100%|██████████| 31.6M/31.6M [00:03<00:00, 9.89MB/s]\n",
      "/expanse/lustre/projects/col168/clangfield/mrsicflogellab/Subjects/SWC_054/2020-10-05/001/alf/probe01/pykilosort/#2024-05-06#/waveforms.templates.npy: 100%|██████████| 25.2M/25.2M [00:01<00:00, 17.9MB/s]\n",
      "/expanse/lustre/projects/col168/clangfield/churchlandlab_ucla/Subjects/MFD_07/2023-08-31/001/alf/probe00/pykilosort/#2024-05-06#/waveforms.templates.npy: 100%|██████████| 22.8M/22.8M [00:01<00:00, 17.2MB/s]\n"
     ]
    },
    {
     "ename": "FileExistsError",
     "evalue": "[Errno 17] File exists: '/expanse/lustre/projects/col168/clangfield/data/re_templates/7a620688-66cb-44d3-b79b-ccac1c8ba23e'",
     "output_type": "error",
     "traceback": [
      "\u001b[0;31m---------------------------------------------------------------------------\u001b[0m",
      "\u001b[0;31mFileExistsError\u001b[0m                           Traceback (most recent call last)",
      "Cell \u001b[0;32mIn[34], line 9\u001b[0m\n\u001b[1;32m      6\u001b[0m path_templates \u001b[38;5;241m=\u001b[39m session_path\u001b[38;5;241m.\u001b[39mjoinpath(rel_path)\n\u001b[1;32m      8\u001b[0m out_path \u001b[38;5;241m=\u001b[39m re_templates_path\u001b[38;5;241m.\u001b[39mjoinpath(pid)\n\u001b[0;32m----> 9\u001b[0m \u001b[43mout_path\u001b[49m\u001b[38;5;241;43m.\u001b[39;49m\u001b[43mmkdir\u001b[49m\u001b[43m(\u001b[49m\u001b[43m)\u001b[49m\n\u001b[1;32m     11\u001b[0m os\u001b[38;5;241m.\u001b[39mrename(path_templates, out_path\u001b[38;5;241m.\u001b[39mjoinpath(\u001b[38;5;124m\"\u001b[39m\u001b[38;5;124mtemplates.npy\u001b[39m\u001b[38;5;124m\"\u001b[39m))\n",
      "File \u001b[0;32m~/miniforge3/envs/iblenv/lib/python3.10/pathlib.py:1175\u001b[0m, in \u001b[0;36mPath.mkdir\u001b[0;34m(self, mode, parents, exist_ok)\u001b[0m\n\u001b[1;32m   1171\u001b[0m \u001b[38;5;250m\u001b[39m\u001b[38;5;124;03m\"\"\"\u001b[39;00m\n\u001b[1;32m   1172\u001b[0m \u001b[38;5;124;03mCreate a new directory at this given path.\u001b[39;00m\n\u001b[1;32m   1173\u001b[0m \u001b[38;5;124;03m\"\"\"\u001b[39;00m\n\u001b[1;32m   1174\u001b[0m \u001b[38;5;28;01mtry\u001b[39;00m:\n\u001b[0;32m-> 1175\u001b[0m     \u001b[38;5;28;43mself\u001b[39;49m\u001b[38;5;241;43m.\u001b[39;49m\u001b[43m_accessor\u001b[49m\u001b[38;5;241;43m.\u001b[39;49m\u001b[43mmkdir\u001b[49m\u001b[43m(\u001b[49m\u001b[38;5;28;43mself\u001b[39;49m\u001b[43m,\u001b[49m\u001b[43m \u001b[49m\u001b[43mmode\u001b[49m\u001b[43m)\u001b[49m\n\u001b[1;32m   1176\u001b[0m \u001b[38;5;28;01mexcept\u001b[39;00m \u001b[38;5;167;01mFileNotFoundError\u001b[39;00m:\n\u001b[1;32m   1177\u001b[0m     \u001b[38;5;28;01mif\u001b[39;00m \u001b[38;5;129;01mnot\u001b[39;00m parents \u001b[38;5;129;01mor\u001b[39;00m \u001b[38;5;28mself\u001b[39m\u001b[38;5;241m.\u001b[39mparent \u001b[38;5;241m==\u001b[39m \u001b[38;5;28mself\u001b[39m:\n",
      "\u001b[0;31mFileExistsError\u001b[0m: [Errno 17] File exists: '/expanse/lustre/projects/col168/clangfield/data/re_templates/7a620688-66cb-44d3-b79b-ccac1c8ba23e'"
     ]
    }
   ],
   "source": [
    "for pid in pids[:]:\n",
    "    eid, probe = one.pid2eid(pid)\n",
    "    session_path = one.eid2path(eid)\n",
    "    one.load_dataset(eid, \"*waveforms.templates*\", collection=f\"alf/{probe}\", download_only=True)\n",
    "    rel_path = one.list_datasets(eid, \"*waveforms.templates*\", collection=f\"alf/{probe}\")[0]\n",
    "    path_templates = session_path.joinpath(rel_path)\n",
    "\n",
    "    out_path = re_templates_path.joinpath(pid)\n",
    "    out_path.mkdir()\n",
    "\n",
    "    os.rename(path_templates, out_path.joinpath(\"templates.npy\"))\n",
    "\n",
    "    \n",
    "    "
   ]
  },
  {
   "cell_type": "code",
   "execution_count": 27,
   "id": "35d45525-407d-4a43-b71f-bc288564a799",
   "metadata": {},
   "outputs": [
    {
     "data": {
      "text/plain": [
       "PosixPath('/expanse/lustre/projects/col168/clangfield/churchlandlab_ucla/Subjects/MFD_07/2023-08-31/001')"
      ]
     },
     "execution_count": 27,
     "metadata": {},
     "output_type": "execute_result"
    }
   ],
   "source": [
    "session_path"
   ]
  },
  {
   "cell_type": "code",
   "execution_count": 25,
   "id": "2f0579e1-4354-4efa-a953-79f0399cd4ba",
   "metadata": {},
   "outputs": [
    {
     "data": {
      "text/plain": [
       "PosixPath('/expanse/lustre/projects/col168/clangfield')"
      ]
     },
     "execution_count": 25,
     "metadata": {},
     "output_type": "execute_result"
    }
   ],
   "source": [
    "one.cache_dir"
   ]
  },
  {
   "cell_type": "code",
   "execution_count": 35,
   "id": "c68dba71-7eca-4d07-8bc3-cee6ecbc5a15",
   "metadata": {},
   "outputs": [
    {
     "name": "stdin",
     "output_type": "stream",
     "text": [
      "Param ALYX_URL, current value is [\"https://openalyx.internationalbrainlab.org\"]: https://alyx.internationalbrainlab.org\n",
      "Param ALYX_LOGIN, current value is [\"intbrainlab\"]: christopher.langfield\n",
      "Param HTTP_DATA_SERVER, current value is [\"https://ibl.flatironinstitute.org/public\"]: https://ibl.flatironinstitute.org/\n",
      "Param HTTP_DATA_SERVER_LOGIN, current value is [\"None\"]: iblmember\n",
      "Enter the FlatIron HTTP password for iblmember (leave empty to keep current):  ········\n",
      "Enter the location of the download cache, current value is [\"/home/clangfield/Downloads/ONE/alyx.internationalbrainlab.org\"]: /expanse/lustre/projects/col168/clangfield/ONE\n",
      "Would you like to set this URL as the default one? [Y/n] Y\n",
      "Are the above settings correct? [Y/n] Y\n"
     ]
    },
    {
     "name": "stdout",
     "output_type": "stream",
     "text": [
      "ONE Parameter files location: /home/clangfield/.one\n"
     ]
    },
    {
     "data": {
      "text/plain": [
       "IBLParams(CLIENT_MAP={'alyx.internationalbrainlab.org': '/expanse/lustre/projects/col168/clangfield/ONE'}, DEFAULT='alyx.internationalbrainlab.org')"
      ]
     },
     "execution_count": 35,
     "metadata": {},
     "output_type": "execute_result"
    }
   ],
   "source": []
  },
  {
   "cell_type": "code",
   "execution_count": null,
   "id": "b08d5d91-fe68-4e63-b148-cdde0a5e9edc",
   "metadata": {},
   "outputs": [],
   "source": []
  }
 ],
 "metadata": {
  "kernelspec": {
   "display_name": "iblenv",
   "language": "python",
   "name": "iblenv"
  },
  "language_info": {
   "codemirror_mode": {
    "name": "ipython",
    "version": 3
   },
   "file_extension": ".py",
   "mimetype": "text/x-python",
   "name": "python",
   "nbconvert_exporter": "python",
   "pygments_lexer": "ipython3",
   "version": "3.10.14"
  }
 },
 "nbformat": 4,
 "nbformat_minor": 5
}
