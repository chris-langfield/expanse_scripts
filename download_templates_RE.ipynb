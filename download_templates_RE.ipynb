{
 "cells": [
  {
   "cell_type": "code",
   "execution_count": 36,
   "id": "2d37257e-f324-40d7-b0f3-365e0eebf63c",
   "metadata": {},
   "outputs": [
    {
     "name": "stdin",
     "output_type": "stream",
     "text": [
      "Enter Alyx password for \"christopher.langfield\": ········\n"
     ]
    },
    {
     "name": "stdout",
     "output_type": "stream",
     "text": [
      "Connected to https://alyx.internationalbrainlab.org as user \"christopher.langfield\"\n",
      "Downloading: /expanse/lustre/projects/col168/clangfield/ONE/tmpatf27e_i/cache.zip Bytes: 126035358\n"
     ]
    },
    {
     "name": "stderr",
     "output_type": "stream",
     "text": [
      "100%|██████████| 120.19668388366699/120.19668388366699 [00:04<00:00, 24.90it/s]\n"
     ]
    }
   ],
   "source": [
    "from one.api import ONE\n",
    "import numpy as np\n",
    "from brainbox.io.one import SpikeSortingLoader\n",
    "import os\n",
    "from pathlib import Path\n",
    "\n",
    "pids = ['1a60a6e1-da99-4d4e-a734-39b1d4544fad',\n",
    " 'bbe6ebc1-d32f-42dd-a89c-211226737deb',\n",
    " '84fd7fa3-6c2d-4233-b265-46a427d3d68d',\n",
    " 'dab512bd-a02d-4c1f-8dbc-9155a163efc0',\n",
    " '6fc4d73c-2071-43ec-a756-c6c6d8322c8b',\n",
    " '1f5d62cb-814f-4ab2-b6af-7557ea04d56a',\n",
    " '8ca1a850-26ef-42be-8b28-c2e2d12f06d6',\n",
    " 'ad714133-1e03-4d3a-8427-33fc483daf1a',\n",
    " 'c17772a9-21b5-49df-ab31-3017addea12e',\n",
    " 'ce397420-3cd2-4a55-8fd1-5e28321981f4',\n",
    " '7a620688-66cb-44d3-b79b-ccac1c8ba23e']\n",
    "\n",
    "one = ONE()\n",
    "\n",
    "re_templates_path = Path(\"/expanse/lustre/projects/col168/clangfield/data/re_templates\")"
   ]
  },
  {
   "cell_type": "code",
   "execution_count": 37,
   "id": "a7822e8c-2920-48f7-b3ec-a10447530912",
   "metadata": {},
   "outputs": [
    {
     "name": "stderr",
     "output_type": "stream",
     "text": [
      "/expanse/lustre/projects/col168/clangfield/ONE/angelakilab/Subjects/NYU-45/2021-07-19/001/alf/probe00/pykilosort/#2024-05-06#/waveforms.table.pqt: 100%|██████████| 3.28M/3.28M [00:19<00:00, 172kB/s] \n",
      "/expanse/lustre/projects/col168/clangfield/ONE/cortexlab/Subjects/KS084/2022-01-31/001/alf/probe01/pykilosort/#2024-05-06#/waveforms.table.pqt: 100%|██████████| 3.16M/3.16M [00:01<00:00, 2.66MB/s]\n",
      "/expanse/lustre/projects/col168/clangfield/ONE/wittenlab/Subjects/ibl_witten_26/2021-01-27/002/alf/probe01/pykilosort/#2024-05-06#/waveforms.table.pqt: 100%|██████████| 3.79M/3.79M [00:05<00:00, 685kB/s] \n",
      "/expanse/lustre/projects/col168/clangfield/ONE/danlab/Subjects/DY_016/2020-09-12/001/alf/probe00/pykilosort/#2024-05-06#/waveforms.table.pqt: 100%|██████████| 3.43M/3.43M [00:00<00:00, 3.59MB/s]\n",
      "/expanse/lustre/projects/col168/clangfield/ONE/hoferlab/Subjects/SWC_060/2020-11-24/001/alf/probe01/pykilosort/#2024-05-06#/waveforms.table.pqt: 100%|██████████| 3.13M/3.13M [00:03<00:00, 974kB/s]\n",
      "/expanse/lustre/projects/col168/clangfield/ONE/mainenlab/Subjects/ZFM-04308/2022-07-26/001/alf/probe00/pykilosort/#2024-05-06#/waveforms.table.pqt: 100%|██████████| 5.11M/5.11M [00:00<00:00, 5.22MB/s]\n",
      "/expanse/lustre/projects/col168/clangfield/ONE/zadorlab/Subjects/CSH_ZAD_026/2020-09-04/001/alf/probe00/pykilosort/#2024-05-06#/waveforms.table.pqt: 100%|██████████| 4.50M/4.50M [00:01<00:00, 4.42MB/s]\n",
      "/expanse/lustre/projects/col168/clangfield/ONE/cortexlab/Subjects/KS096/2022-06-17/001/alf/probe01/pykilosort/#2024-05-06#/waveforms.table.pqt: 100%|██████████| 4.37M/4.37M [00:01<00:00, 3.71MB/s]\n",
      "/expanse/lustre/projects/col168/clangfield/ONE/hoferlab/Subjects/SWC_043/2020-09-16/002/alf/probe01/pykilosort/#2024-05-06#/waveforms.table.pqt: 100%|██████████| 7.13M/7.13M [00:01<00:00, 4.84MB/s]\n",
      "/expanse/lustre/projects/col168/clangfield/ONE/mrsicflogellab/Subjects/SWC_054/2020-10-05/001/alf/probe01/pykilosort/#2024-05-06#/waveforms.table.pqt: 100%|██████████| 5.80M/5.80M [00:01<00:00, 4.49MB/s]\n",
      "/expanse/lustre/projects/col168/clangfield/ONE/churchlandlab_ucla/Subjects/MFD_07/2023-08-31/001/alf/probe00/pykilosort/#2024-05-06#/waveforms.table.pqt: 100%|██████████| 5.25M/5.25M [00:04<00:00, 1.13MB/s]\n"
     ]
    }
   ],
   "source": [
    "for pid in pids[:]:\n",
    "    eid, probe = one.pid2eid(pid)\n",
    "    session_path = one.eid2path(eid)\n",
    "    one.load_dataset(eid, \"*waveforms.table*\", collection=f\"alf/{probe}\", download_only=True)\n",
    "    rel_path = one.list_datasets(eid, \"*waveforms.table*\", collection=f\"alf/{probe}\")[0]\n",
    "    path_templates = session_path.joinpath(rel_path)\n",
    "\n",
    "    out_path = re_templates_path.joinpath(pid)\n",
    "    out_path.mkdir(exist_ok=True)\n",
    "\n",
    "    os.rename(path_templates, out_path.joinpath(\"template_info.pqt\"))\n",
    "\n",
    "    \n",
    "    "
   ]
  },
  {
   "cell_type": "code",
   "execution_count": 27,
   "id": "35d45525-407d-4a43-b71f-bc288564a799",
   "metadata": {},
   "outputs": [
    {
     "data": {
      "text/plain": [
       "PosixPath('/expanse/lustre/projects/col168/clangfield/churchlandlab_ucla/Subjects/MFD_07/2023-08-31/001')"
      ]
     },
     "execution_count": 27,
     "metadata": {},
     "output_type": "execute_result"
    }
   ],
   "source": [
    "session_path"
   ]
  },
  {
   "cell_type": "code",
   "execution_count": 25,
   "id": "2f0579e1-4354-4efa-a953-79f0399cd4ba",
   "metadata": {},
   "outputs": [
    {
     "data": {
      "text/plain": [
       "PosixPath('/expanse/lustre/projects/col168/clangfield')"
      ]
     },
     "execution_count": 25,
     "metadata": {},
     "output_type": "execute_result"
    }
   ],
   "source": [
    "one.cache_dir"
   ]
  },
  {
   "cell_type": "code",
   "execution_count": 35,
   "id": "c68dba71-7eca-4d07-8bc3-cee6ecbc5a15",
   "metadata": {},
   "outputs": [
    {
     "name": "stdin",
     "output_type": "stream",
     "text": [
      "Param ALYX_URL, current value is [\"https://openalyx.internationalbrainlab.org\"]: https://alyx.internationalbrainlab.org\n",
      "Param ALYX_LOGIN, current value is [\"intbrainlab\"]: christopher.langfield\n",
      "Param HTTP_DATA_SERVER, current value is [\"https://ibl.flatironinstitute.org/public\"]: https://ibl.flatironinstitute.org/\n",
      "Param HTTP_DATA_SERVER_LOGIN, current value is [\"None\"]: iblmember\n",
      "Enter the FlatIron HTTP password for iblmember (leave empty to keep current):  ········\n",
      "Enter the location of the download cache, current value is [\"/home/clangfield/Downloads/ONE/alyx.internationalbrainlab.org\"]: /expanse/lustre/projects/col168/clangfield/ONE\n",
      "Would you like to set this URL as the default one? [Y/n] Y\n",
      "Are the above settings correct? [Y/n] Y\n"
     ]
    },
    {
     "name": "stdout",
     "output_type": "stream",
     "text": [
      "ONE Parameter files location: /home/clangfield/.one\n"
     ]
    },
    {
     "data": {
      "text/plain": [
       "IBLParams(CLIENT_MAP={'alyx.internationalbrainlab.org': '/expanse/lustre/projects/col168/clangfield/ONE'}, DEFAULT='alyx.internationalbrainlab.org')"
      ]
     },
     "execution_count": 35,
     "metadata": {},
     "output_type": "execute_result"
    }
   ],
   "source": []
  },
  {
   "cell_type": "code",
   "execution_count": null,
   "id": "b08d5d91-fe68-4e63-b148-cdde0a5e9edc",
   "metadata": {},
   "outputs": [],
   "source": []
  }
 ],
 "metadata": {
  "kernelspec": {
   "display_name": "iblenv",
   "language": "python",
   "name": "iblenv"
  },
  "language_info": {
   "codemirror_mode": {
    "name": "ipython",
    "version": 3
   },
   "file_extension": ".py",
   "mimetype": "text/x-python",
   "name": "python",
   "nbconvert_exporter": "python",
   "pygments_lexer": "ipython3",
   "version": "3.10.14"
  }
 },
 "nbformat": 4,
 "nbformat_minor": 5
}
